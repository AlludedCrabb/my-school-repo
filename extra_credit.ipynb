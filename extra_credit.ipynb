{
 "cells": [
  {
   "cell_type": "code",
   "execution_count": 6,
   "metadata": {
    "scrolled": true
   },
   "outputs": [
    {
     "name": "stdout",
     "output_type": "stream",
     "text": [
      "index lower upper\n",
      "    1     a     A\n",
      "    2     b     B\n",
      "    3     c     C\n",
      "    4     d     D\n",
      "    5     e     E\n",
      "    6     f     F\n",
      "    7     g     G\n",
      "    8     h     H\n",
      "    9     i     I\n",
      "   10     j     J\n",
      "   11     k     K\n",
      "   12     l     L\n",
      "   13     m     M\n",
      "   14     n     N\n",
      "   15     o     O\n",
      "   16     p     P\n",
      "   17     q     Q\n",
      "   18     r     R\n",
      "   19     s     S\n",
      "   20     t     T\n",
      "   21     u     U\n",
      "   22     v     V\n",
      "   23     w     W\n",
      "   24     x     X\n",
      "   25     y     Y\n",
      "   26     z     Z\n"
     ]
    }
   ],
   "source": [
    "from string import (ascii_lowercase, ascii_uppercase)\n",
    "import pandas as pd\n",
    "\n",
    "alphabet_data = []\n",
    "for number in list(range(1,27)):\n",
    "    alphabet_data.append({'lower': ascii_lowercase[number - 1], 'upper': ascii_uppercase[number - 1], 'index': number})\n",
    "\n",
    "alphabet_df = pd.DataFrame(alphabet_data)\n",
    "print(alphabet_df.to_string(index=False))\n"
   ]
  },
  {
   "cell_type": "code",
   "execution_count": null,
   "metadata": {},
   "outputs": [],
   "source": []
  }
 ],
 "metadata": {
  "kernelspec": {
   "display_name": "learn-env",
   "language": "python",
   "name": "learn-env"
  },
  "language_info": {
   "codemirror_mode": {
    "name": "ipython",
    "version": 3
   },
   "file_extension": ".py",
   "mimetype": "text/x-python",
   "name": "python",
   "nbconvert_exporter": "python",
   "pygments_lexer": "ipython3",
   "version": "3.6.6"
  }
 },
 "nbformat": 4,
 "nbformat_minor": 2
}
